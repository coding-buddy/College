{
 "cells": [
  {
   "cell_type": "markdown",
   "id": "a63075c0",
   "metadata": {},
   "source": [
    "## Rules for identifiers and variables"
   ]
  },
  {
   "cell_type": "markdown",
   "id": "92ede9c5",
   "metadata": {},
   "source": [
    "##### Python distinguishes only first 79 characters.\n",
    "##### Can use A-Z, a-z, 0-9, _\n",
    "##### Cannot start with a number"
   ]
  },
  {
   "cell_type": "code",
   "execution_count": 1,
   "id": "6e7a14c0",
   "metadata": {},
   "outputs": [
    {
     "data": {
      "text/plain": [
       "'ity'"
      ]
     },
     "execution_count": 1,
     "metadata": {},
     "output_type": "execute_result"
    }
   ],
   "source": [
    "name = \"This is a lovely University.\"\n",
    "name[-4:-1]"
   ]
  },
  {
   "cell_type": "code",
   "execution_count": 3,
   "id": "72eceed8",
   "metadata": {},
   "outputs": [
    {
     "data": {
      "text/plain": [
       "'iy'"
      ]
     },
     "execution_count": 3,
     "metadata": {},
     "output_type": "execute_result"
    }
   ],
   "source": [
    "name[-4::2]"
   ]
  },
  {
   "cell_type": "code",
   "execution_count": 4,
   "id": "72251647",
   "metadata": {},
   "outputs": [
    {
     "data": {
      "text/plain": [
       "'irvn lvlas iT'"
      ]
     },
     "execution_count": 4,
     "metadata": {},
     "output_type": "execute_result"
    }
   ],
   "source": [
    "name[-4::-2]"
   ]
  },
  {
   "cell_type": "code",
   "execution_count": 5,
   "id": "9a77c422",
   "metadata": {},
   "outputs": [
    {
     "data": {
      "text/plain": [
       "'isrevinU ylevol a si sihT'"
      ]
     },
     "execution_count": 5,
     "metadata": {},
     "output_type": "execute_result"
    }
   ],
   "source": [
    "name[-4::-1]"
   ]
  },
  {
   "cell_type": "code",
   "execution_count": 6,
   "id": "621cb591",
   "metadata": {},
   "outputs": [
    {
     "data": {
      "text/plain": [
       "'.ytisrevinU ylevol a si sihT'"
      ]
     },
     "execution_count": 6,
     "metadata": {},
     "output_type": "execute_result"
    }
   ],
   "source": [
    "name[::-1]"
   ]
  },
  {
   "cell_type": "code",
   "execution_count": 11,
   "id": "a272d96a",
   "metadata": {},
   "outputs": [
    {
     "data": {
      "text/plain": [
       "True"
      ]
     },
     "execution_count": 11,
     "metadata": {},
     "output_type": "execute_result"
    }
   ],
   "source": [
    "a = 9\n",
    "b = 3\n",
    "a>=b"
   ]
  },
  {
   "cell_type": "code",
   "execution_count": 13,
   "id": "b1d8295a",
   "metadata": {},
   "outputs": [
    {
     "name": "stdout",
     "output_type": "stream",
     "text": [
      "12\n"
     ]
    }
   ],
   "source": [
    "a = 5\n",
    "b = 7\n",
    "if a > b:\n",
    "    s = b - a\n",
    "elif a == b:\n",
    "    s = 0\n",
    "else:\n",
    "    s = a + b\n",
    "print(s)"
   ]
  },
  {
   "cell_type": "code",
   "execution_count": 16,
   "id": "bcad8299",
   "metadata": {},
   "outputs": [
    {
     "name": "stdout",
     "output_type": "stream",
     "text": [
      "x is currently:  0\n",
      "x is still less than 10, adding 1 to x\n",
      "x is currently:  1\n",
      "x is still less than 10, adding 1 to x\n",
      "x is currently:  2\n",
      "x is still less than 10, adding 1 to x\n",
      "x is currently:  3\n",
      "x is still less than 10, adding 1 to x\n",
      "x is currently:  4\n",
      "x is still less than 10, adding 1 to x\n",
      "x is currently:  5\n",
      "x is still less than 10, adding 1 to x\n",
      "x is currently:  6\n",
      "x is still less than 10, adding 1 to x\n",
      "x is currently:  7\n",
      "x is still less than 10, adding 1 to x\n",
      "x is currently:  8\n",
      "x is still less than 10, adding 1 to x\n",
      "x is currently:  9\n",
      "x is still less than 10, adding 1 to x\n",
      "x is 10. Ending...\n"
     ]
    }
   ],
   "source": [
    "x = 0\n",
    "while x < 10:\n",
    "    print(\"x is currently: \", x)\n",
    "    print(\"x is still less than 10, adding 1 to x\")\n",
    "    x += 1\n",
    "else:\n",
    "    print(\"x is 10. Ending...\")"
   ]
  },
  {
   "cell_type": "code",
   "execution_count": 17,
   "id": "2f949f5d",
   "metadata": {},
   "outputs": [
    {
     "name": "stdout",
     "output_type": "stream",
     "text": [
      "14\n"
     ]
    }
   ],
   "source": [
    "a = 5\n",
    "while (a<14):\n",
    "    a+=1\n",
    "print(a)"
   ]
  },
  {
   "cell_type": "code",
   "execution_count": 1,
   "id": "c4bc5c92",
   "metadata": {},
   "outputs": [
    {
     "name": "stdout",
     "output_type": "stream",
     "text": [
      "a is 5..!\n"
     ]
    },
    {
     "name": "stderr",
     "output_type": "stream",
     "text": [
      "<>:2: SyntaxWarning: \"is\" with a literal. Did you mean \"==\"?\n",
      "<>:2: SyntaxWarning: \"is\" with a literal. Did you mean \"==\"?\n",
      "C:\\Users\\ravindra singh\\AppData\\Local\\Temp\\ipykernel_9260\\3951124531.py:2: SyntaxWarning: \"is\" with a literal. Did you mean \"==\"?\n",
      "  if a is 5:\n"
     ]
    }
   ],
   "source": [
    "a = 5\n",
    "if a is 5:\n",
    "    print('a is 5..!')\n",
    "else:\n",
    "    print('a is not 5..!')"
   ]
  },
  {
   "cell_type": "code",
   "execution_count": 2,
   "id": "d6389798",
   "metadata": {},
   "outputs": [
    {
     "name": "stdout",
     "output_type": "stream",
     "text": [
      "362880\n"
     ]
    }
   ],
   "source": [
    "prod = 1\n",
    "i = 0\n",
    "while (i<9):\n",
    "    i+=1\n",
    "    prod = prod*i\n",
    "print(prod)"
   ]
  },
  {
   "cell_type": "code",
   "execution_count": 4,
   "id": "12d00522",
   "metadata": {},
   "outputs": [
    {
     "name": "stdout",
     "output_type": "stream",
     "text": [
      "362880\n"
     ]
    }
   ],
   "source": [
    "prod = 1\n",
    "i = 1\n",
    "while (i<9):\n",
    "    i+=1\n",
    "    prod = prod*i\n",
    "print(prod)"
   ]
  },
  {
   "cell_type": "code",
   "execution_count": 5,
   "id": "477d50f2",
   "metadata": {},
   "outputs": [
    {
     "name": "stdout",
     "output_type": "stream",
     "text": [
      "40320\n"
     ]
    }
   ],
   "source": [
    "prod = 1\n",
    "i = 0\n",
    "while (i<8):\n",
    "    i+=1\n",
    "    prod = prod*i\n",
    "print(prod)"
   ]
  },
  {
   "cell_type": "code",
   "execution_count": 7,
   "id": "d886e4eb",
   "metadata": {},
   "outputs": [
    {
     "name": "stdout",
     "output_type": "stream",
     "text": [
      "40320\n"
     ]
    }
   ],
   "source": [
    "prod = 1\n",
    "i = 1\n",
    "while (i<9):\n",
    "    prod = prod*i\n",
    "    i+=1\n",
    "print(prod)"
   ]
  },
  {
   "cell_type": "code",
   "execution_count": null,
   "id": "0c10d064",
   "metadata": {},
   "outputs": [],
   "source": []
  }
 ],
 "metadata": {
  "kernelspec": {
   "display_name": "Python 3 (ipykernel)",
   "language": "python",
   "name": "python3"
  },
  "language_info": {
   "codemirror_mode": {
    "name": "ipython",
    "version": 3
   },
   "file_extension": ".py",
   "mimetype": "text/x-python",
   "name": "python",
   "nbconvert_exporter": "python",
   "pygments_lexer": "ipython3",
   "version": "3.9.12"
  }
 },
 "nbformat": 4,
 "nbformat_minor": 5
}
