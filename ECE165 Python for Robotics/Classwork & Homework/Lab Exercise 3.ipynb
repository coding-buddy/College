{
 "cells": [
  {
   "cell_type": "markdown",
   "id": "ee271023",
   "metadata": {},
   "source": [
    "### Lab Exercise: 3"
   ]
  },
  {
   "cell_type": "code",
   "execution_count": 1,
   "id": "ac169e7e",
   "metadata": {},
   "outputs": [
    {
     "name": "stdout",
     "output_type": "stream",
     "text": [
      "Hello World!\n",
      "Hello World!\n"
     ]
    }
   ],
   "source": [
    "def sayHello():\n",
    "    print('Hello World!')\n",
    "sayHello()\n",
    "sayHello()"
   ]
  },
  {
   "cell_type": "code",
   "execution_count": 3,
   "id": "f54ce6d4",
   "metadata": {},
   "outputs": [
    {
     "name": "stdout",
     "output_type": "stream",
     "text": [
      "4 is maximum.\n"
     ]
    }
   ],
   "source": [
    "def printMax(a,b):\n",
    "    if a > b:\n",
    "        print(a, 'is maximum.')\n",
    "    elif a == b:\n",
    "        print(a, 'is equal to', b)\n",
    "    else:\n",
    "        print(b, 'is maximum.')\n",
    "printMax(3, 4)"
   ]
  },
  {
   "cell_type": "code",
   "execution_count": 5,
   "id": "d8578ff8",
   "metadata": {},
   "outputs": [
    {
     "name": "stdout",
     "output_type": "stream",
     "text": [
      "24\n"
     ]
    }
   ],
   "source": [
    "def factn(n):\n",
    "    i = 1; fact = 1\n",
    "    while (i<=n):\n",
    "        fact = fact * i\n",
    "        i = i + 1\n",
    "    print(fact)\n",
    "factn(4)"
   ]
  },
  {
   "cell_type": "code",
   "execution_count": 6,
   "id": "533957b9",
   "metadata": {},
   "outputs": [
    {
     "name": "stdout",
     "output_type": "stream",
     "text": [
      "1\n",
      "2\n",
      "6\n",
      "24\n"
     ]
    }
   ],
   "source": [
    "def factn(n):\n",
    "    i = 1; fact = 1\n",
    "    while (i<=n):\n",
    "        fact = fact * i\n",
    "        i = i + 1\n",
    "        print(fact)\n",
    "factn(4)"
   ]
  },
  {
   "cell_type": "code",
   "execution_count": 7,
   "id": "1ed9b00a",
   "metadata": {},
   "outputs": [
    {
     "ename": "NameError",
     "evalue": "name 'fact' is not defined",
     "output_type": "error",
     "traceback": [
      "\u001b[1;31m---------------------------------------------------------------------------\u001b[0m",
      "\u001b[1;31mNameError\u001b[0m                                 Traceback (most recent call last)",
      "Input \u001b[1;32mIn [7]\u001b[0m, in \u001b[0;36m<cell line: 6>\u001b[1;34m()\u001b[0m\n\u001b[0;32m      4\u001b[0m         fact \u001b[38;5;241m=\u001b[39m fact \u001b[38;5;241m*\u001b[39m i\n\u001b[0;32m      5\u001b[0m         i \u001b[38;5;241m=\u001b[39m i \u001b[38;5;241m+\u001b[39m \u001b[38;5;241m1\u001b[39m\n\u001b[1;32m----> 6\u001b[0m \u001b[38;5;28mprint\u001b[39m(\u001b[43mfact\u001b[49m)\n\u001b[0;32m      7\u001b[0m factn(\u001b[38;5;241m4\u001b[39m)\n",
      "\u001b[1;31mNameError\u001b[0m: name 'fact' is not defined"
     ]
    }
   ],
   "source": [
    "def factn(n):\n",
    "    i = 1; fact = 1\n",
    "    while (i<=n):\n",
    "        fact = fact * i\n",
    "        i = i + 1\n",
    "print(fact)\n",
    "factn(4)"
   ]
  },
  {
   "cell_type": "code",
   "execution_count": 8,
   "id": "53b39052",
   "metadata": {},
   "outputs": [
    {
     "name": "stdout",
     "output_type": "stream",
     "text": [
      "0\n"
     ]
    }
   ],
   "source": [
    "def factn(n):\n",
    "    i = 0; fact = 1\n",
    "    while (i<=n):\n",
    "        fact = fact * i\n",
    "        i = i + 1\n",
    "    print(fact)\n",
    "factn(4)"
   ]
  },
  {
   "cell_type": "code",
   "execution_count": 9,
   "id": "5a6bf0e6",
   "metadata": {},
   "outputs": [
    {
     "name": "stdout",
     "output_type": "stream",
     "text": [
      "120\n"
     ]
    }
   ],
   "source": [
    "def factn(n):\n",
    "    i = 1; fact = 1\n",
    "    while (i<=n):\n",
    "        i = i + 1\n",
    "        fact = fact * i\n",
    "    print(fact)\n",
    "factn(4)"
   ]
  },
  {
   "cell_type": "code",
   "execution_count": 10,
   "id": "f1928570",
   "metadata": {},
   "outputs": [
    {
     "ename": "NameError",
     "evalue": "name 'x' is not defined",
     "output_type": "error",
     "traceback": [
      "\u001b[1;31m---------------------------------------------------------------------------\u001b[0m",
      "\u001b[1;31mNameError\u001b[0m                                 Traceback (most recent call last)",
      "Input \u001b[1;32mIn [10]\u001b[0m, in \u001b[0;36m<cell line: 6>\u001b[1;34m()\u001b[0m\n\u001b[0;32m      4\u001b[0m     x \u001b[38;5;241m=\u001b[39m \u001b[38;5;241m2\u001b[39m\n\u001b[0;32m      5\u001b[0m     \u001b[38;5;28mprint\u001b[39m(\u001b[38;5;124m'\u001b[39m\u001b[38;5;124mChanges local x to\u001b[39m\u001b[38;5;124m'\u001b[39m, x)\n\u001b[1;32m----> 6\u001b[0m func(\u001b[43mx\u001b[49m)\n\u001b[0;32m      7\u001b[0m \u001b[38;5;28mprint\u001b[39m(\u001b[38;5;124m\"\u001b[39m\u001b[38;5;124mx is not\u001b[39m\u001b[38;5;124m\"\u001b[39m, x)\n",
      "\u001b[1;31mNameError\u001b[0m: name 'x' is not defined"
     ]
    }
   ],
   "source": [
    "X = 50\n",
    "def func(x):\n",
    "    print('x is', x)\n",
    "    x = 2\n",
    "    print('Changes local x to', x)\n",
    "func(x)\n",
    "print(\"x is not\", x)"
   ]
  },
  {
   "cell_type": "code",
   "execution_count": 11,
   "id": "b06dca0e",
   "metadata": {},
   "outputs": [
    {
     "name": "stdout",
     "output_type": "stream",
     "text": [
      "x is 50\n",
      "Changes local x to 2\n",
      "x is not 50\n"
     ]
    }
   ],
   "source": [
    "x = 50\n",
    "def func(x):\n",
    "    print('x is', x)\n",
    "    x = 2\n",
    "    print('Changes local x to', x)\n",
    "func(x)\n",
    "print(\"x is not\", x)"
   ]
  },
  {
   "cell_type": "code",
   "execution_count": 12,
   "id": "cf36ebaf",
   "metadata": {},
   "outputs": [
    {
     "data": {
      "text/plain": [
       "4"
      ]
     },
     "execution_count": 12,
     "metadata": {},
     "output_type": "execute_result"
    }
   ],
   "source": [
    "import math\n",
    "math.ceil(3.4)"
   ]
  },
  {
   "cell_type": "code",
   "execution_count": 13,
   "id": "df49457b",
   "metadata": {},
   "outputs": [
    {
     "data": {
      "text/plain": [
       "3"
      ]
     },
     "execution_count": 13,
     "metadata": {},
     "output_type": "execute_result"
    }
   ],
   "source": [
    "math.floor(3.4)"
   ]
  },
  {
   "cell_type": "code",
   "execution_count": 14,
   "id": "a0343543",
   "metadata": {},
   "outputs": [
    {
     "ename": "AttributeError",
     "evalue": "module 'math' has no attribute 'fact'",
     "output_type": "error",
     "traceback": [
      "\u001b[1;31m---------------------------------------------------------------------------\u001b[0m",
      "\u001b[1;31mAttributeError\u001b[0m                            Traceback (most recent call last)",
      "Input \u001b[1;32mIn [14]\u001b[0m, in \u001b[0;36m<cell line: 1>\u001b[1;34m()\u001b[0m\n\u001b[1;32m----> 1\u001b[0m \u001b[43mmath\u001b[49m\u001b[38;5;241;43m.\u001b[39;49m\u001b[43mfact\u001b[49m(\u001b[38;5;241m6\u001b[39m)\n",
      "\u001b[1;31mAttributeError\u001b[0m: module 'math' has no attribute 'fact'"
     ]
    }
   ],
   "source": [
    "math.fact(6)"
   ]
  },
  {
   "cell_type": "code",
   "execution_count": 15,
   "id": "44389005",
   "metadata": {},
   "outputs": [
    {
     "data": {
      "text/plain": [
       "720"
      ]
     },
     "execution_count": 15,
     "metadata": {},
     "output_type": "execute_result"
    }
   ],
   "source": [
    "math.factorial(6)"
   ]
  },
  {
   "cell_type": "code",
   "execution_count": 16,
   "id": "50cc17c5",
   "metadata": {},
   "outputs": [
    {
     "name": "stdout",
     "output_type": "stream",
     "text": [
      "117.0\n"
     ]
    }
   ],
   "source": [
    "print(math.sqrt(13689))"
   ]
  },
  {
   "cell_type": "code",
   "execution_count": 21,
   "id": "f2dd013d",
   "metadata": {},
   "outputs": [
    {
     "data": {
      "text/plain": [
       "30.0"
      ]
     },
     "execution_count": 21,
     "metadata": {},
     "output_type": "execute_result"
    }
   ],
   "source": [
    "a = 30\n",
    "float(a)"
   ]
  },
  {
   "cell_type": "code",
   "execution_count": 22,
   "id": "641f8cea",
   "metadata": {},
   "outputs": [
    {
     "data": {
      "text/plain": [
       "103"
      ]
     },
     "execution_count": 22,
     "metadata": {},
     "output_type": "execute_result"
    }
   ],
   "source": [
    "a = 'g'\n",
    "ord(a)"
   ]
  },
  {
   "cell_type": "code",
   "execution_count": 23,
   "id": "3f585a2c",
   "metadata": {},
   "outputs": [],
   "source": [
    "a = 15"
   ]
  },
  {
   "cell_type": "code",
   "execution_count": 24,
   "id": "865617ee",
   "metadata": {},
   "outputs": [
    {
     "data": {
      "text/plain": [
       "'0xf'"
      ]
     },
     "execution_count": 24,
     "metadata": {},
     "output_type": "execute_result"
    }
   ],
   "source": [
    "hex(a)"
   ]
  },
  {
   "cell_type": "code",
   "execution_count": 25,
   "id": "fec7dda7",
   "metadata": {},
   "outputs": [
    {
     "data": {
      "text/plain": [
       "'15'"
      ]
     },
     "execution_count": 25,
     "metadata": {},
     "output_type": "execute_result"
    }
   ],
   "source": [
    "str(a)"
   ]
  },
  {
   "cell_type": "code",
   "execution_count": 26,
   "id": "4641927b",
   "metadata": {},
   "outputs": [
    {
     "data": {
      "text/plain": [
       "'\\x0f'"
      ]
     },
     "execution_count": 26,
     "metadata": {},
     "output_type": "execute_result"
    }
   ],
   "source": [
    "chr(a)"
   ]
  },
  {
   "cell_type": "code",
   "execution_count": null,
   "id": "1a91f225",
   "metadata": {},
   "outputs": [],
   "source": []
  }
 ],
 "metadata": {
  "kernelspec": {
   "display_name": "Python 3 (ipykernel)",
   "language": "python",
   "name": "python3"
  },
  "language_info": {
   "codemirror_mode": {
    "name": "ipython",
    "version": 3
   },
   "file_extension": ".py",
   "mimetype": "text/x-python",
   "name": "python",
   "nbconvert_exporter": "python",
   "pygments_lexer": "ipython3",
   "version": "3.9.12"
  }
 },
 "nbformat": 4,
 "nbformat_minor": 5
}
