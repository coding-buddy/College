{
 "cells": [
  {
   "cell_type": "markdown",
   "id": "2fb94b94",
   "metadata": {},
   "source": [
    "1. Bundle of codes = function\n",
    "2. Bundle of functions = module\n",
    "3. Bundle of modules = Library\n",
    "4. Bundle of library = API"
   ]
  },
  {
   "cell_type": "code",
   "execution_count": 1,
   "id": "59b5e684",
   "metadata": {},
   "outputs": [
    {
     "name": "stdout",
     "output_type": "stream",
     "text": [
      "Hello from the function\n"
     ]
    }
   ],
   "source": [
    "def my_function():\n",
    "    print(\"Hello from the function\")\n",
    "my_function()"
   ]
  },
  {
   "cell_type": "markdown",
   "id": "d902eec8",
   "metadata": {},
   "source": [
    "### Types of Functions"
   ]
  },
  {
   "cell_type": "markdown",
   "id": "148ad1a8",
   "metadata": {},
   "source": [
    "1. Built-in functions\n",
    "2. User defined functions\n",
    "3. Anonymous functions"
   ]
  },
  {
   "cell_type": "markdown",
   "id": "e7eb81ed",
   "metadata": {},
   "source": [
    "Anonymous function: Function that is defined without a name. These are defined using lambda keyword"
   ]
  },
  {
   "cell_type": "code",
   "execution_count": 2,
   "id": "552dbab5",
   "metadata": {},
   "outputs": [
    {
     "name": "stdout",
     "output_type": "stream",
     "text": [
      "10\n"
     ]
    }
   ],
   "source": [
    "double = lambda x: x*2\n",
    "print(double(5))"
   ]
  },
  {
   "cell_type": "code",
   "execution_count": 3,
   "id": "7145cf81",
   "metadata": {},
   "outputs": [
    {
     "name": "stdout",
     "output_type": "stream",
     "text": [
      "24\n"
     ]
    }
   ],
   "source": [
    "def factn():\n",
    "    i = 1; fact = 1\n",
    "    while(i<4):\n",
    "        i += 1\n",
    "        fact = fact*i\n",
    "    print(fact)\n",
    "factn()"
   ]
  },
  {
   "cell_type": "code",
   "execution_count": 7,
   "id": "3b74c290",
   "metadata": {},
   "outputs": [
    {
     "name": "stdout",
     "output_type": "stream",
     "text": [
      "Enter an integer: 10\n",
      "3628800\n"
     ]
    }
   ],
   "source": [
    "def factn(n):\n",
    "    i = 1; fact = 1\n",
    "    while(i<n):\n",
    "        i += 1\n",
    "        fact = fact*i\n",
    "    print(fact)\n",
    "\n",
    "n = int(input(\"Enter an integer: \"))\n",
    "factn(n)"
   ]
  },
  {
   "cell_type": "code",
   "execution_count": null,
   "id": "1810e2f1",
   "metadata": {},
   "outputs": [],
   "source": [
    "def factn(n):\n",
    "    global j\n",
    "    fact = 1\n",
    "    for j in range(1, n+1):\n",
    "        fact*=j\n",
    "    return j\n",
    "n = int(input(\"Enter an integer: \"))\n",
    "factn(n)\n",
    "print(j)"
   ]
  },
  {
   "cell_type": "code",
   "execution_count": 11,
   "id": "abcbeaf8",
   "metadata": {},
   "outputs": [
    {
     "name": "stdout",
     "output_type": "stream",
     "text": [
      "Enter an integer: 4\n",
      "24\n"
     ]
    }
   ],
   "source": [
    "def factn(n):\n",
    "    i = 1; fact = 1\n",
    "    while(i<n):\n",
    "        i += 1\n",
    "        fact = fact*i\n",
    "    return fact\n",
    "x = int(input(\"Enter an integer: \"))\n",
    "y = factn(x)\n",
    "print(y)"
   ]
  },
  {
   "cell_type": "code",
   "execution_count": 12,
   "id": "8ab8e391",
   "metadata": {},
   "outputs": [
    {
     "name": "stdout",
     "output_type": "stream",
     "text": [
      "7\n",
      "3 2\n"
     ]
    }
   ],
   "source": [
    "def demolocal(y):\n",
    "    x = 5\n",
    "    y = x + y\n",
    "    print(y)\n",
    "x = 3\n",
    "y = 2\n",
    "demolocal(y)\n",
    "print(x, y)"
   ]
  },
  {
   "cell_type": "code",
   "execution_count": null,
   "id": "73559acd",
   "metadata": {},
   "outputs": [],
   "source": [
    "def display(x):\n",
    "    print(x, end=' ')\n",
    "    x = x+2\n",
    "x = 5\n",
    "display(x)\n",
    "print(x)"
   ]
  },
  {
   "cell_type": "code",
   "execution_count": 17,
   "id": "55960b3a",
   "metadata": {},
   "outputs": [
    {
     "name": "stdout",
     "output_type": "stream",
     "text": [
      "10\n"
     ]
    }
   ],
   "source": [
    "def add3(a, b, c):\n",
    "    res  = a+b+c\n",
    "    return res\n",
    "\n",
    "x = 5\n",
    "y = 3\n",
    "z = 2\n",
    "sum3 = add3(x,y,z)\n",
    "print(sum3)"
   ]
  },
  {
   "cell_type": "code",
   "execution_count": 16,
   "id": "c6f17915",
   "metadata": {},
   "outputs": [
    {
     "name": "stdout",
     "output_type": "stream",
     "text": [
      "14\n"
     ]
    }
   ],
   "source": [
    "def add3(a, b, c=6):\n",
    "    res  = a+b+c\n",
    "    return res\n",
    "\n",
    "x = 5\n",
    "y = 3\n",
    "sum3 = add3(x,y)\n",
    "print(sum3)"
   ]
  },
  {
   "cell_type": "code",
   "execution_count": 18,
   "id": "258bfe42",
   "metadata": {},
   "outputs": [
    {
     "ename": "SyntaxError",
     "evalue": "non-default argument follows default argument (856976470.py, line 1)",
     "output_type": "error",
     "traceback": [
      "\u001b[1;36m  Input \u001b[1;32mIn [18]\u001b[1;36m\u001b[0m\n\u001b[1;33m    def test(a=3, b, c=5):\u001b[0m\n\u001b[1;37m                     ^\u001b[0m\n\u001b[1;31mSyntaxError\u001b[0m\u001b[1;31m:\u001b[0m non-default argument follows default argument\n"
     ]
    }
   ],
   "source": [
    "def test(a=3, b, c=5):\n",
    "    print(a,b,c)\n",
    "test(2,b=9)"
   ]
  },
  {
   "cell_type": "markdown",
   "id": "858c898a",
   "metadata": {},
   "source": [
    "### Type conversion (explicit)"
   ]
  },
  {
   "cell_type": "markdown",
   "id": "c65adbde",
   "metadata": {},
   "source": [
    "int(), float(), ord(), complex(), str(), tuple(), list(), etc."
   ]
  },
  {
   "cell_type": "code",
   "execution_count": 20,
   "id": "86bf1f90",
   "metadata": {},
   "outputs": [
    {
     "data": {
      "text/plain": [
       "25"
      ]
     },
     "execution_count": 20,
     "metadata": {},
     "output_type": "execute_result"
    }
   ],
   "source": [
    "a = '11001'\n",
    "int(a, 2)"
   ]
  },
  {
   "cell_type": "code",
   "execution_count": 21,
   "id": "88971567",
   "metadata": {},
   "outputs": [
    {
     "data": {
      "text/plain": [
       "25.0"
      ]
     },
     "execution_count": 21,
     "metadata": {},
     "output_type": "execute_result"
    }
   ],
   "source": [
    "c = float(int(a, 2))\n",
    "c"
   ]
  },
  {
   "cell_type": "markdown",
   "id": "d9aae371",
   "metadata": {},
   "source": [
    "### Implicit (Coercion)"
   ]
  },
  {
   "cell_type": "markdown",
   "id": "5b41c3ab",
   "metadata": {},
   "source": [
    "integer + float = float"
   ]
  },
  {
   "cell_type": "code",
   "execution_count": null,
   "id": "ae98c89a",
   "metadata": {},
   "outputs": [],
   "source": []
  }
 ],
 "metadata": {
  "kernelspec": {
   "display_name": "Python 3 (ipykernel)",
   "language": "python",
   "name": "python3"
  },
  "language_info": {
   "codemirror_mode": {
    "name": "ipython",
    "version": 3
   },
   "file_extension": ".py",
   "mimetype": "text/x-python",
   "name": "python",
   "nbconvert_exporter": "python",
   "pygments_lexer": "ipython3",
   "version": "3.9.12"
  }
 },
 "nbformat": 4,
 "nbformat_minor": 5
}
