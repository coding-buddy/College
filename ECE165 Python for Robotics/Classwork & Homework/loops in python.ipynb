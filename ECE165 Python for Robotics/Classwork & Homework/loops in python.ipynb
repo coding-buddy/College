{
 "cells": [
  {
   "cell_type": "markdown",
   "id": "1ca3f7b1",
   "metadata": {},
   "source": [
    "### While loop"
   ]
  },
  {
   "cell_type": "code",
   "execution_count": 1,
   "id": "76b8273f",
   "metadata": {},
   "outputs": [
    {
     "name": "stdout",
     "output_type": "stream",
     "text": [
      "Enter an integer: 1\n",
      "Enter an integer: 2\n",
      "Enter an integer: 3\n",
      "Enter an integer: 4\n",
      "Enter an integer: 5\n",
      "Enter an integer: 6\n",
      "Enter an integer: 7\n",
      "Enter an integer: 8\n",
      "Enter an integer: 9\n",
      "Enter an integer: 10\n",
      "Average:  5.5\n"
     ]
    }
   ],
   "source": [
    "n = 1\n",
    "sum = 0\n",
    "while (n<11):\n",
    "    a = int(input(\"Enter an integer: \"))\n",
    "    sum += a\n",
    "    n += 1\n",
    "print(\"Average: \", sum/10)"
   ]
  },
  {
   "cell_type": "code",
   "execution_count": 9,
   "id": "f2fb6c0e",
   "metadata": {},
   "outputs": [
    {
     "name": "stdout",
     "output_type": "stream",
     "text": [
      "Enter an integer: 1\n",
      "press q to exit.\n",
      "Enter an integer: 2\n",
      "press q to exit.\n",
      "Enter an integer: 3\n",
      "press q to exit.\n",
      "Enter an integer: 4\n",
      "press q to exit.\n",
      "Enter an integer: 5\n",
      "press q to exit.\n",
      "Enter an integer: q\n",
      "Average:  3.0\n",
      "Product:  120\n"
     ]
    }
   ],
   "source": [
    "sum = 0\n",
    "product = 1\n",
    "numbers = []\n",
    "a = 0\n",
    "while True:\n",
    "    a = input(\"Enter an integer: \")\n",
    "    if (a==\"q\" or a==\"Q\"):\n",
    "        break\n",
    "    else:\n",
    "        numbers.append(int(a))\n",
    "        print(\"press q to exit.\")\n",
    "for i in range(len(numbers)):\n",
    "    sum+=numbers[i]\n",
    "    product*=numbers[i]\n",
    "print(\"Average: \", sum/len(numbers))\n",
    "print(\"Product: \", product)"
   ]
  },
  {
   "cell_type": "code",
   "execution_count": 10,
   "id": "cf5a779a",
   "metadata": {},
   "outputs": [
    {
     "name": "stdout",
     "output_type": "stream",
     "text": [
      "5\n"
     ]
    }
   ],
   "source": [
    "sum = 0\n",
    "a = 0\n",
    "while sum<13:\n",
    "    a = a+1\n",
    "    sum=sum+a\n",
    "print(a)"
   ]
  },
  {
   "cell_type": "markdown",
   "id": "0d772d82",
   "metadata": {},
   "source": [
    "### For loop"
   ]
  },
  {
   "cell_type": "code",
   "execution_count": 11,
   "id": "3761e20e",
   "metadata": {},
   "outputs": [
    {
     "name": "stdout",
     "output_type": "stream",
     "text": [
      "1\n",
      "2\n",
      "3\n",
      "4\n"
     ]
    }
   ],
   "source": [
    "for i in range(1,5):\n",
    "    print(i)"
   ]
  },
  {
   "cell_type": "code",
   "execution_count": 12,
   "id": "ca7576e7",
   "metadata": {},
   "outputs": [
    {
     "name": "stdout",
     "output_type": "stream",
     "text": [
      "Input a number, -1 to end: 1\n",
      "Input a number, -1 to end: 2\n",
      "Input a number, -1 to end: 3\n",
      "Input a number, -1 to end: 4\n",
      "Input a number, -1 to end: 5\n",
      "Input a number, -1 to end: 6\n",
      "6\n",
      "Input a number, -1 to end: 7\n",
      "7\n",
      "Input a number, -1 to end: 8\n",
      "8\n",
      "Input a number, -1 to end: -1\n"
     ]
    }
   ],
   "source": [
    "while True:\n",
    "    j = int(input(\"Input a number, -1 to end: \"))\n",
    "    if j==-1:\n",
    "        break\n",
    "    else:\n",
    "        if (j<=5):\n",
    "            continue\n",
    "        print(j)"
   ]
  },
  {
   "cell_type": "code",
   "execution_count": 14,
   "id": "9b560d64",
   "metadata": {},
   "outputs": [
    {
     "name": "stdout",
     "output_type": "stream",
     "text": [
      "9\n"
     ]
    }
   ],
   "source": [
    "sum = 0\n",
    "for i in range(2,5):\n",
    "    sum+=i\n",
    "print(sum)"
   ]
  },
  {
   "cell_type": "code",
   "execution_count": 18,
   "id": "17b62750",
   "metadata": {},
   "outputs": [
    {
     "name": "stdout",
     "output_type": "stream",
     "text": [
      "Enter marks of the student: 70\n",
      "Upper Second\n"
     ]
    }
   ],
   "source": [
    "n = int(input(\"Enter marks of the student: \"))\n",
    "if (n>=75):\n",
    "    print(\"First\")\n",
    "elif (70<=n<75):\n",
    "    print(\"Upper Second\")\n",
    "elif (60<=n<70):\n",
    "    print(\"Second\")\n",
    "elif (50<=n<60):\n",
    "    print(\"Third\")\n",
    "elif (45<=n<50):\n",
    "    print(\"F1 Supp\")\n",
    "elif (40<=n<45):\n",
    "    print(\"F2\")\n",
    "else:\n",
    "    print(\"F3\")"
   ]
  },
  {
   "cell_type": "code",
   "execution_count": null,
   "id": "fec4bc7c",
   "metadata": {},
   "outputs": [],
   "source": []
  }
 ],
 "metadata": {
  "kernelspec": {
   "display_name": "Python 3 (ipykernel)",
   "language": "python",
   "name": "python3"
  },
  "language_info": {
   "codemirror_mode": {
    "name": "ipython",
    "version": 3
   },
   "file_extension": ".py",
   "mimetype": "text/x-python",
   "name": "python",
   "nbconvert_exporter": "python",
   "pygments_lexer": "ipython3",
   "version": "3.9.12"
  }
 },
 "nbformat": 4,
 "nbformat_minor": 5
}
