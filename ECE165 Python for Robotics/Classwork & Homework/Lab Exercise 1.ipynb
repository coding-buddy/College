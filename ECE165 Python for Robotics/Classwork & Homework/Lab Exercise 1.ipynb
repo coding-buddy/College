{
 "cells": [
  {
   "cell_type": "markdown",
   "id": "dc34bbbe",
   "metadata": {},
   "source": [
    "### Lab Exercise: 1"
   ]
  },
  {
   "cell_type": "code",
   "execution_count": 1,
   "id": "ac687714",
   "metadata": {},
   "outputs": [
    {
     "data": {
      "text/plain": [
       "0"
      ]
     },
     "execution_count": 1,
     "metadata": {},
     "output_type": "execute_result"
    }
   ],
   "source": [
    "4-2*2"
   ]
  },
  {
   "cell_type": "code",
   "execution_count": 2,
   "id": "1fccd9d3",
   "metadata": {},
   "outputs": [
    {
     "data": {
      "text/plain": [
       "3.0"
      ]
     },
     "execution_count": 2,
     "metadata": {},
     "output_type": "execute_result"
    }
   ],
   "source": [
    "9/3"
   ]
  },
  {
   "cell_type": "code",
   "execution_count": 3,
   "id": "17579c96",
   "metadata": {},
   "outputs": [
    {
     "data": {
      "text/plain": [
       "0"
      ]
     },
     "execution_count": 3,
     "metadata": {},
     "output_type": "execute_result"
    }
   ],
   "source": [
    "6%3"
   ]
  },
  {
   "cell_type": "code",
   "execution_count": 4,
   "id": "617ea279",
   "metadata": {},
   "outputs": [
    {
     "data": {
      "text/plain": [
       "10000"
      ]
     },
     "execution_count": 4,
     "metadata": {},
     "output_type": "execute_result"
    }
   ],
   "source": [
    "10**4"
   ]
  },
  {
   "cell_type": "code",
   "execution_count": 5,
   "id": "70d9fbba",
   "metadata": {},
   "outputs": [
    {
     "data": {
      "text/plain": [
       "200"
      ]
     },
     "execution_count": 5,
     "metadata": {},
     "output_type": "execute_result"
    }
   ],
   "source": [
    "10**2*2"
   ]
  },
  {
   "cell_type": "code",
   "execution_count": 6,
   "id": "44b7d25c",
   "metadata": {},
   "outputs": [
    {
     "data": {
      "text/plain": [
       "2.5714285714285716"
      ]
     },
     "execution_count": 6,
     "metadata": {},
     "output_type": "execute_result"
    }
   ],
   "source": [
    "9/3.5"
   ]
  },
  {
   "cell_type": "code",
   "execution_count": 7,
   "id": "a321d66e",
   "metadata": {},
   "outputs": [
    {
     "data": {
      "text/plain": [
       "12.0"
      ]
     },
     "execution_count": 7,
     "metadata": {},
     "output_type": "execute_result"
    }
   ],
   "source": [
    "1+2*22/4"
   ]
  },
  {
   "cell_type": "code",
   "execution_count": 8,
   "id": "25c580dd",
   "metadata": {},
   "outputs": [
    {
     "data": {
      "text/plain": [
       "2"
      ]
     },
     "execution_count": 8,
     "metadata": {},
     "output_type": "execute_result"
    }
   ],
   "source": [
    "11%3"
   ]
  },
  {
   "cell_type": "code",
   "execution_count": 9,
   "id": "7e30e573",
   "metadata": {},
   "outputs": [],
   "source": [
    "x=22\n",
    "y=3"
   ]
  },
  {
   "cell_type": "code",
   "execution_count": 10,
   "id": "3d24d7f3",
   "metadata": {},
   "outputs": [
    {
     "data": {
      "text/plain": [
       "25"
      ]
     },
     "execution_count": 10,
     "metadata": {},
     "output_type": "execute_result"
    }
   ],
   "source": [
    "x+y"
   ]
  },
  {
   "cell_type": "code",
   "execution_count": 11,
   "id": "a98de754",
   "metadata": {},
   "outputs": [
    {
     "data": {
      "text/plain": [
       "19"
      ]
     },
     "execution_count": 11,
     "metadata": {},
     "output_type": "execute_result"
    }
   ],
   "source": [
    "x-y"
   ]
  },
  {
   "cell_type": "code",
   "execution_count": 12,
   "id": "77d384e7",
   "metadata": {},
   "outputs": [
    {
     "data": {
      "text/plain": [
       "66"
      ]
     },
     "execution_count": 12,
     "metadata": {},
     "output_type": "execute_result"
    }
   ],
   "source": [
    "x*y"
   ]
  },
  {
   "cell_type": "code",
   "execution_count": 13,
   "id": "a8e97106",
   "metadata": {},
   "outputs": [
    {
     "data": {
      "text/plain": [
       "7.333333333333333"
      ]
     },
     "execution_count": 13,
     "metadata": {},
     "output_type": "execute_result"
    }
   ],
   "source": [
    "x/y"
   ]
  },
  {
   "cell_type": "code",
   "execution_count": 14,
   "id": "0926d5b2",
   "metadata": {},
   "outputs": [
    {
     "data": {
      "text/plain": [
       "7"
      ]
     },
     "execution_count": 14,
     "metadata": {},
     "output_type": "execute_result"
    }
   ],
   "source": [
    "x//y"
   ]
  },
  {
   "cell_type": "code",
   "execution_count": 15,
   "id": "26c01b5f",
   "metadata": {},
   "outputs": [
    {
     "data": {
      "text/plain": [
       "10648"
      ]
     },
     "execution_count": 15,
     "metadata": {},
     "output_type": "execute_result"
    }
   ],
   "source": [
    "x**y"
   ]
  },
  {
   "cell_type": "code",
   "execution_count": 16,
   "id": "89304f81",
   "metadata": {},
   "outputs": [
    {
     "data": {
      "text/plain": [
       "81"
      ]
     },
     "execution_count": 16,
     "metadata": {},
     "output_type": "execute_result"
    }
   ],
   "source": [
    "3*x+5*y"
   ]
  },
  {
   "cell_type": "code",
   "execution_count": 17,
   "id": "68f0e9a6",
   "metadata": {},
   "outputs": [
    {
     "data": {
      "text/plain": [
       "243"
      ]
     },
     "execution_count": 17,
     "metadata": {},
     "output_type": "execute_result"
    }
   ],
   "source": [
    "3*(x+5)*y"
   ]
  },
  {
   "cell_type": "code",
   "execution_count": 18,
   "id": "9a0c9974",
   "metadata": {},
   "outputs": [
    {
     "data": {
      "text/plain": [
       "81"
      ]
     },
     "execution_count": 18,
     "metadata": {},
     "output_type": "execute_result"
    }
   ],
   "source": [
    "(3*x)+(5*y)"
   ]
  },
  {
   "cell_type": "code",
   "execution_count": 19,
   "id": "aa65fe8b",
   "metadata": {},
   "outputs": [
    {
     "data": {
      "text/plain": [
       "36350622.666666664"
      ]
     },
     "execution_count": 19,
     "metadata": {},
     "output_type": "execute_result"
    }
   ],
   "source": [
    "2**x*13/3*2-12"
   ]
  },
  {
   "cell_type": "code",
   "execution_count": 20,
   "id": "c8809b0b",
   "metadata": {},
   "outputs": [
    {
     "data": {
      "text/plain": [
       "-86.0"
      ]
     },
     "execution_count": 20,
     "metadata": {},
     "output_type": "execute_result"
    }
   ],
   "source": [
    "12/y*17%3-4*x"
   ]
  },
  {
   "cell_type": "markdown",
   "id": "c369289e",
   "metadata": {},
   "source": [
    "##### celcius to farenheit"
   ]
  },
  {
   "cell_type": "code",
   "execution_count": 22,
   "id": "9bccab7b",
   "metadata": {},
   "outputs": [
    {
     "name": "stdout",
     "output_type": "stream",
     "text": [
      "158.0\n"
     ]
    }
   ],
   "source": [
    "c = 70\n",
    "f = c * 1.8 + 32\n",
    "print(f)"
   ]
  },
  {
   "cell_type": "markdown",
   "id": "bf9b912f",
   "metadata": {},
   "source": [
    "##### farenheit to celcius"
   ]
  },
  {
   "cell_type": "code",
   "execution_count": 25,
   "id": "f1c65d9c",
   "metadata": {},
   "outputs": [
    {
     "name": "stdout",
     "output_type": "stream",
     "text": [
      "21.11111111111111\n"
     ]
    }
   ],
   "source": [
    "f = 70\n",
    "c = (f-32)*5/9\n",
    "print(c)"
   ]
  },
  {
   "cell_type": "code",
   "execution_count": null,
   "id": "d5e7edc1",
   "metadata": {},
   "outputs": [],
   "source": []
  }
 ],
 "metadata": {
  "kernelspec": {
   "display_name": "Python 3 (ipykernel)",
   "language": "python",
   "name": "python3"
  },
  "language_info": {
   "codemirror_mode": {
    "name": "ipython",
    "version": 3
   },
   "file_extension": ".py",
   "mimetype": "text/x-python",
   "name": "python",
   "nbconvert_exporter": "python",
   "pygments_lexer": "ipython3",
   "version": "3.9.12"
  }
 },
 "nbformat": 4,
 "nbformat_minor": 5
}
